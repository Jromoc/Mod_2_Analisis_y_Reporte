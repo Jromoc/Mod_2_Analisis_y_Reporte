{
 "cells": [
  {
   "cell_type": "code",
   "execution_count": 1,
   "metadata": {},
   "outputs": [],
   "source": [
    "# Importacion de librerias\n",
    "import pandas as pd\n",
    "from sklearn import tree\n",
    "from sklearn.tree import DecisionTreeClassifier\n",
    "from sklearn.model_selection import train_test_split\n",
    "from sklearn.metrics import accuracy_score"
   ]
  },
  {
   "cell_type": "code",
   "execution_count": null,
   "metadata": {},
   "outputs": [],
   "source": [
    "#Lectura del dataset\n",
    "columns = [\"sepal length\",\"sepal width\",\"petal length\",\"petal width\", \"class\"] # definir nombres de columna manualmente\n",
    "df = pd.read_csv('iris.data',names = columns) # abrir el archivo de datos con los nombres dados para las columnas\n",
    "df.head()"
   ]
  },
  {
   "cell_type": "code",
   "execution_count": null,
   "metadata": {},
   "outputs": [],
   "source": [
    "#Aplicando la separacion de los datos para el test, el train y la validacion\n",
    "x_train, x_test, y_train, y_test = train_test_split(x, y, test_size=0.2, random_state=1)"
   ]
  },
  {
   "cell_type": "code",
   "execution_count": null,
   "metadata": {},
   "outputs": [],
   "source": [
    "#Se crea el arbol de decision donde se puede hacer modificaciones para los parametros\n",
    "myTree = tree.DecisionTreeClassifier(criterion=\"entropy\")\n",
    "#Se entrena el Decision Tree Classifier\n",
    "myTree.fit(X_train, Y_train)\n",
    "#Aqui se predice la respuesta para el subset de datos de prueba (test)\n",
    "Y_pred = myTree.predict(x_test)"
   ]
  },
  {
   "cell_type": "code",
   "execution_count": null,
   "metadata": {},
   "outputs": [],
   "source": [
    "#Aqui se puede visualizar el arbol creado pero en forma de texto\n",
    "print(tree.export_text(myTree))"
   ]
  },
  {
   "cell_type": "code",
   "execution_count": null,
   "metadata": {},
   "outputs": [],
   "source": [
    "#Aqui se puede visualizar el arbol creado pero en forma de grafico\n",
    "tree.plot_tree(myTree)"
   ]
  }
 ],
 "metadata": {
  "kernelspec": {
   "display_name": "base",
   "language": "python",
   "name": "python3"
  },
  "language_info": {
   "codemirror_mode": {
    "name": "ipython",
    "version": 3
   },
   "file_extension": ".py",
   "mimetype": "text/x-python",
   "name": "python",
   "nbconvert_exporter": "python",
   "pygments_lexer": "ipython3",
   "version": "3.10.9"
  },
  "orig_nbformat": 4
 },
 "nbformat": 4,
 "nbformat_minor": 2
}
